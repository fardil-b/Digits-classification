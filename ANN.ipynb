{
 "cells": [
  {
   "cell_type": "markdown",
   "metadata": {},
   "source": [
    "# Artificial Neural Networks Final project\n",
    "## DSTI S20 ANN Class\n",
    "Classify digits for this more complicated version of MNIST dataset\n",
    "28x28 greyscale images are flattened into a 784-elements array. The train.csv contains also the target as the last column."
   ]
  },
  {
   "cell_type": "code",
   "execution_count": 2,
   "metadata": {},
   "outputs": [
    {
     "name": "stderr",
     "output_type": "stream",
     "text": [
      "Using TensorFlow backend.\n"
     ]
    }
   ],
   "source": [
    "# Import all required libraries\n",
    "import numpy as np # linear algebra\n",
    "import pandas as pd # data processing, CSV file I/O (e.g. pd.read_csv)\n",
    "\n",
    "import matplotlib.pyplot as plt\n",
    "%matplotlib inline\n",
    "\n",
    "from keras.layers import Conv2D, Lambda, MaxPooling2D # convolution layers\n",
    "from keras.models import Sequential\n",
    "from keras.layers import Dense , Dropout , Lambda, Flatten\n",
    "from keras.optimizers import Adam ,RMSprop\n",
    "from sklearn.model_selection import train_test_split\n",
    "from keras import  backend as K\n",
    "from keras.preprocessing.image import ImageDataGenerator\n",
    "import seaborn as sns\n",
    "from sklearn.metrics import confusion_matrix\n",
    "from keras.layers.normalization import BatchNormalization"
   ]
  },
  {
   "cell_type": "markdown",
   "metadata": {},
   "source": [
    "## Load Train and Test data"
   ]
  },
  {
   "cell_type": "markdown",
   "metadata": {},
   "source": [
    "First load the training set and the test set, the train_data.csv has 12,000 rows and 785 columns with the last columns (785) containing the target. The test.csv has 50,000 rowms and 784 columns."
   ]
  },
  {
   "cell_type": "code",
   "execution_count": 8,
   "metadata": {},
   "outputs": [
    {
     "name": "stdout",
     "output_type": "stream",
     "text": [
      "(12000, 785)\n"
     ]
    },
    {
     "data": {
      "text/html": [
       "<div>\n",
       "<style scoped>\n",
       "    .dataframe tbody tr th:only-of-type {\n",
       "        vertical-align: middle;\n",
       "    }\n",
       "\n",
       "    .dataframe tbody tr th {\n",
       "        vertical-align: top;\n",
       "    }\n",
       "\n",
       "    .dataframe thead th {\n",
       "        text-align: right;\n",
       "    }\n",
       "</style>\n",
       "<table border=\"1\" class=\"dataframe\">\n",
       "  <thead>\n",
       "    <tr style=\"text-align: right;\">\n",
       "      <th></th>\n",
       "      <th>0</th>\n",
       "      <th>1</th>\n",
       "      <th>2</th>\n",
       "      <th>3</th>\n",
       "      <th>4</th>\n",
       "      <th>5</th>\n",
       "      <th>6</th>\n",
       "      <th>7</th>\n",
       "      <th>8</th>\n",
       "      <th>9</th>\n",
       "      <th>...</th>\n",
       "      <th>775</th>\n",
       "      <th>776</th>\n",
       "      <th>777</th>\n",
       "      <th>778</th>\n",
       "      <th>779</th>\n",
       "      <th>780</th>\n",
       "      <th>781</th>\n",
       "      <th>782</th>\n",
       "      <th>783</th>\n",
       "      <th>784</th>\n",
       "    </tr>\n",
       "  </thead>\n",
       "  <tbody>\n",
       "    <tr>\n",
       "      <th>0</th>\n",
       "      <td>0.713940</td>\n",
       "      <td>0.950166</td>\n",
       "      <td>0.082491</td>\n",
       "      <td>0.473774</td>\n",
       "      <td>0.374250</td>\n",
       "      <td>0.605040</td>\n",
       "      <td>0.412975</td>\n",
       "      <td>0.044910</td>\n",
       "      <td>0.632922</td>\n",
       "      <td>0.833006</td>\n",
       "      <td>...</td>\n",
       "      <td>0.370060</td>\n",
       "      <td>0.231853</td>\n",
       "      <td>0.551300</td>\n",
       "      <td>0.269233</td>\n",
       "      <td>0.647563</td>\n",
       "      <td>0.280602</td>\n",
       "      <td>0.497715</td>\n",
       "      <td>0.556270</td>\n",
       "      <td>0.698295</td>\n",
       "      <td>5.0</td>\n",
       "    </tr>\n",
       "    <tr>\n",
       "      <th>1</th>\n",
       "      <td>0.207442</td>\n",
       "      <td>0.159942</td>\n",
       "      <td>0.052641</td>\n",
       "      <td>0.051342</td>\n",
       "      <td>0.009720</td>\n",
       "      <td>0.682703</td>\n",
       "      <td>0.774166</td>\n",
       "      <td>0.558285</td>\n",
       "      <td>0.005905</td>\n",
       "      <td>0.201606</td>\n",
       "      <td>...</td>\n",
       "      <td>0.315708</td>\n",
       "      <td>0.012937</td>\n",
       "      <td>0.300337</td>\n",
       "      <td>0.284532</td>\n",
       "      <td>0.135431</td>\n",
       "      <td>0.678037</td>\n",
       "      <td>0.494685</td>\n",
       "      <td>0.203191</td>\n",
       "      <td>0.391003</td>\n",
       "      <td>7.0</td>\n",
       "    </tr>\n",
       "    <tr>\n",
       "      <th>2</th>\n",
       "      <td>0.325839</td>\n",
       "      <td>0.056225</td>\n",
       "      <td>0.160836</td>\n",
       "      <td>0.759836</td>\n",
       "      <td>0.403398</td>\n",
       "      <td>0.187141</td>\n",
       "      <td>0.340320</td>\n",
       "      <td>0.775668</td>\n",
       "      <td>0.459065</td>\n",
       "      <td>0.921677</td>\n",
       "      <td>...</td>\n",
       "      <td>0.593142</td>\n",
       "      <td>0.505503</td>\n",
       "      <td>0.378750</td>\n",
       "      <td>0.087939</td>\n",
       "      <td>0.530516</td>\n",
       "      <td>0.888135</td>\n",
       "      <td>0.407788</td>\n",
       "      <td>0.627825</td>\n",
       "      <td>0.673938</td>\n",
       "      <td>7.0</td>\n",
       "    </tr>\n",
       "    <tr>\n",
       "      <th>3</th>\n",
       "      <td>0.456670</td>\n",
       "      <td>0.540038</td>\n",
       "      <td>0.424184</td>\n",
       "      <td>0.660162</td>\n",
       "      <td>0.091114</td>\n",
       "      <td>0.249477</td>\n",
       "      <td>0.309704</td>\n",
       "      <td>0.465830</td>\n",
       "      <td>0.828901</td>\n",
       "      <td>0.344942</td>\n",
       "      <td>...</td>\n",
       "      <td>0.207742</td>\n",
       "      <td>0.155203</td>\n",
       "      <td>0.178659</td>\n",
       "      <td>0.261624</td>\n",
       "      <td>0.682500</td>\n",
       "      <td>0.771541</td>\n",
       "      <td>0.893934</td>\n",
       "      <td>0.707141</td>\n",
       "      <td>0.606010</td>\n",
       "      <td>1.0</td>\n",
       "    </tr>\n",
       "    <tr>\n",
       "      <th>4</th>\n",
       "      <td>0.364102</td>\n",
       "      <td>0.175911</td>\n",
       "      <td>0.483085</td>\n",
       "      <td>0.126983</td>\n",
       "      <td>0.284549</td>\n",
       "      <td>0.419236</td>\n",
       "      <td>0.075535</td>\n",
       "      <td>0.466388</td>\n",
       "      <td>0.358588</td>\n",
       "      <td>0.124850</td>\n",
       "      <td>...</td>\n",
       "      <td>0.345253</td>\n",
       "      <td>0.829508</td>\n",
       "      <td>0.604404</td>\n",
       "      <td>0.017116</td>\n",
       "      <td>0.671998</td>\n",
       "      <td>0.683932</td>\n",
       "      <td>0.895201</td>\n",
       "      <td>0.796101</td>\n",
       "      <td>0.432795</td>\n",
       "      <td>8.0</td>\n",
       "    </tr>\n",
       "  </tbody>\n",
       "</table>\n",
       "<p>5 rows × 785 columns</p>\n",
       "</div>"
      ],
      "text/plain": [
       "        0         1         2         3         4         5         6    \\\n",
       "0  0.713940  0.950166  0.082491  0.473774  0.374250  0.605040  0.412975   \n",
       "1  0.207442  0.159942  0.052641  0.051342  0.009720  0.682703  0.774166   \n",
       "2  0.325839  0.056225  0.160836  0.759836  0.403398  0.187141  0.340320   \n",
       "3  0.456670  0.540038  0.424184  0.660162  0.091114  0.249477  0.309704   \n",
       "4  0.364102  0.175911  0.483085  0.126983  0.284549  0.419236  0.075535   \n",
       "\n",
       "        7         8         9    ...       775       776       777       778  \\\n",
       "0  0.044910  0.632922  0.833006  ...  0.370060  0.231853  0.551300  0.269233   \n",
       "1  0.558285  0.005905  0.201606  ...  0.315708  0.012937  0.300337  0.284532   \n",
       "2  0.775668  0.459065  0.921677  ...  0.593142  0.505503  0.378750  0.087939   \n",
       "3  0.465830  0.828901  0.344942  ...  0.207742  0.155203  0.178659  0.261624   \n",
       "4  0.466388  0.358588  0.124850  ...  0.345253  0.829508  0.604404  0.017116   \n",
       "\n",
       "        779       780       781       782       783  784  \n",
       "0  0.647563  0.280602  0.497715  0.556270  0.698295  5.0  \n",
       "1  0.135431  0.678037  0.494685  0.203191  0.391003  7.0  \n",
       "2  0.530516  0.888135  0.407788  0.627825  0.673938  7.0  \n",
       "3  0.682500  0.771541  0.893934  0.707141  0.606010  1.0  \n",
       "4  0.671998  0.683932  0.895201  0.796101  0.432795  8.0  \n",
       "\n",
       "[5 rows x 785 columns]"
      ]
     },
     "execution_count": 8,
     "metadata": {},
     "output_type": "execute_result"
    }
   ],
   "source": [
    "train = pd.read_csv('C:/Users/fbhug/OneDrive/Desktop/DSTIS20ANNCLASS/data/train_data.csv', header=None)\n",
    "print(train.shape)\n",
    "train.head()"
   ]
  },
  {
   "cell_type": "code",
   "execution_count": 9,
   "metadata": {},
   "outputs": [
    {
     "name": "stdout",
     "output_type": "stream",
     "text": [
      "(50000, 784)\n"
     ]
    },
    {
     "data": {
      "text/html": [
       "<div>\n",
       "<style scoped>\n",
       "    .dataframe tbody tr th:only-of-type {\n",
       "        vertical-align: middle;\n",
       "    }\n",
       "\n",
       "    .dataframe tbody tr th {\n",
       "        vertical-align: top;\n",
       "    }\n",
       "\n",
       "    .dataframe thead th {\n",
       "        text-align: right;\n",
       "    }\n",
       "</style>\n",
       "<table border=\"1\" class=\"dataframe\">\n",
       "  <thead>\n",
       "    <tr style=\"text-align: right;\">\n",
       "      <th></th>\n",
       "      <th>0</th>\n",
       "      <th>1</th>\n",
       "      <th>2</th>\n",
       "      <th>3</th>\n",
       "      <th>4</th>\n",
       "      <th>5</th>\n",
       "      <th>6</th>\n",
       "      <th>7</th>\n",
       "      <th>8</th>\n",
       "      <th>9</th>\n",
       "      <th>...</th>\n",
       "      <th>774</th>\n",
       "      <th>775</th>\n",
       "      <th>776</th>\n",
       "      <th>777</th>\n",
       "      <th>778</th>\n",
       "      <th>779</th>\n",
       "      <th>780</th>\n",
       "      <th>781</th>\n",
       "      <th>782</th>\n",
       "      <th>783</th>\n",
       "    </tr>\n",
       "  </thead>\n",
       "  <tbody>\n",
       "    <tr>\n",
       "      <th>0</th>\n",
       "      <td>0.923635</td>\n",
       "      <td>0.845687</td>\n",
       "      <td>0.392889</td>\n",
       "      <td>0.615869</td>\n",
       "      <td>0.874534</td>\n",
       "      <td>0.740285</td>\n",
       "      <td>0.866167</td>\n",
       "      <td>0.874884</td>\n",
       "      <td>0.798678</td>\n",
       "      <td>0.921411</td>\n",
       "      <td>...</td>\n",
       "      <td>0.319343</td>\n",
       "      <td>0.117923</td>\n",
       "      <td>0.534830</td>\n",
       "      <td>0.471488</td>\n",
       "      <td>0.533066</td>\n",
       "      <td>0.043630</td>\n",
       "      <td>0.180847</td>\n",
       "      <td>0.914436</td>\n",
       "      <td>0.208952</td>\n",
       "      <td>0.818082</td>\n",
       "    </tr>\n",
       "    <tr>\n",
       "      <th>1</th>\n",
       "      <td>0.007767</td>\n",
       "      <td>0.670740</td>\n",
       "      <td>0.951021</td>\n",
       "      <td>0.824375</td>\n",
       "      <td>0.094717</td>\n",
       "      <td>0.497067</td>\n",
       "      <td>0.114710</td>\n",
       "      <td>0.437907</td>\n",
       "      <td>0.960489</td>\n",
       "      <td>0.240704</td>\n",
       "      <td>...</td>\n",
       "      <td>0.517363</td>\n",
       "      <td>0.613867</td>\n",
       "      <td>0.707880</td>\n",
       "      <td>0.117110</td>\n",
       "      <td>0.418698</td>\n",
       "      <td>0.645694</td>\n",
       "      <td>0.927810</td>\n",
       "      <td>0.680603</td>\n",
       "      <td>0.676337</td>\n",
       "      <td>0.950921</td>\n",
       "    </tr>\n",
       "    <tr>\n",
       "      <th>2</th>\n",
       "      <td>0.358045</td>\n",
       "      <td>0.464620</td>\n",
       "      <td>0.437333</td>\n",
       "      <td>0.050389</td>\n",
       "      <td>0.077008</td>\n",
       "      <td>0.442392</td>\n",
       "      <td>0.918650</td>\n",
       "      <td>0.050119</td>\n",
       "      <td>0.192834</td>\n",
       "      <td>0.104782</td>\n",
       "      <td>...</td>\n",
       "      <td>0.724851</td>\n",
       "      <td>0.801276</td>\n",
       "      <td>0.479539</td>\n",
       "      <td>0.329358</td>\n",
       "      <td>0.792401</td>\n",
       "      <td>0.280922</td>\n",
       "      <td>0.271480</td>\n",
       "      <td>0.439076</td>\n",
       "      <td>0.304218</td>\n",
       "      <td>0.776752</td>\n",
       "    </tr>\n",
       "    <tr>\n",
       "      <th>3</th>\n",
       "      <td>0.529594</td>\n",
       "      <td>0.952398</td>\n",
       "      <td>0.106095</td>\n",
       "      <td>0.145126</td>\n",
       "      <td>0.848198</td>\n",
       "      <td>0.623113</td>\n",
       "      <td>0.987542</td>\n",
       "      <td>0.208150</td>\n",
       "      <td>0.786005</td>\n",
       "      <td>0.177162</td>\n",
       "      <td>...</td>\n",
       "      <td>0.070347</td>\n",
       "      <td>0.207519</td>\n",
       "      <td>0.516150</td>\n",
       "      <td>0.301316</td>\n",
       "      <td>0.444116</td>\n",
       "      <td>0.568434</td>\n",
       "      <td>0.720637</td>\n",
       "      <td>0.000732</td>\n",
       "      <td>0.298122</td>\n",
       "      <td>0.661337</td>\n",
       "    </tr>\n",
       "    <tr>\n",
       "      <th>4</th>\n",
       "      <td>0.615061</td>\n",
       "      <td>0.910934</td>\n",
       "      <td>0.610735</td>\n",
       "      <td>0.926151</td>\n",
       "      <td>0.166474</td>\n",
       "      <td>0.094271</td>\n",
       "      <td>0.172607</td>\n",
       "      <td>0.641545</td>\n",
       "      <td>0.529498</td>\n",
       "      <td>0.750550</td>\n",
       "      <td>...</td>\n",
       "      <td>0.445006</td>\n",
       "      <td>0.977408</td>\n",
       "      <td>0.975606</td>\n",
       "      <td>0.552509</td>\n",
       "      <td>0.170555</td>\n",
       "      <td>0.971848</td>\n",
       "      <td>0.432990</td>\n",
       "      <td>0.183389</td>\n",
       "      <td>0.035798</td>\n",
       "      <td>0.067085</td>\n",
       "    </tr>\n",
       "  </tbody>\n",
       "</table>\n",
       "<p>5 rows × 784 columns</p>\n",
       "</div>"
      ],
      "text/plain": [
       "        0         1         2         3         4         5         6    \\\n",
       "0  0.923635  0.845687  0.392889  0.615869  0.874534  0.740285  0.866167   \n",
       "1  0.007767  0.670740  0.951021  0.824375  0.094717  0.497067  0.114710   \n",
       "2  0.358045  0.464620  0.437333  0.050389  0.077008  0.442392  0.918650   \n",
       "3  0.529594  0.952398  0.106095  0.145126  0.848198  0.623113  0.987542   \n",
       "4  0.615061  0.910934  0.610735  0.926151  0.166474  0.094271  0.172607   \n",
       "\n",
       "        7         8         9    ...       774       775       776       777  \\\n",
       "0  0.874884  0.798678  0.921411  ...  0.319343  0.117923  0.534830  0.471488   \n",
       "1  0.437907  0.960489  0.240704  ...  0.517363  0.613867  0.707880  0.117110   \n",
       "2  0.050119  0.192834  0.104782  ...  0.724851  0.801276  0.479539  0.329358   \n",
       "3  0.208150  0.786005  0.177162  ...  0.070347  0.207519  0.516150  0.301316   \n",
       "4  0.641545  0.529498  0.750550  ...  0.445006  0.977408  0.975606  0.552509   \n",
       "\n",
       "        778       779       780       781       782       783  \n",
       "0  0.533066  0.043630  0.180847  0.914436  0.208952  0.818082  \n",
       "1  0.418698  0.645694  0.927810  0.680603  0.676337  0.950921  \n",
       "2  0.792401  0.280922  0.271480  0.439076  0.304218  0.776752  \n",
       "3  0.444116  0.568434  0.720637  0.000732  0.298122  0.661337  \n",
       "4  0.170555  0.971848  0.432990  0.183389  0.035798  0.067085  \n",
       "\n",
       "[5 rows x 784 columns]"
      ]
     },
     "execution_count": 9,
     "metadata": {},
     "output_type": "execute_result"
    }
   ],
   "source": [
    "test= pd.read_csv('C:/Users/fbhug/OneDrive/Desktop/DSTIS20ANNCLASS/data/test_data.csv', header=None)\n",
    "print(test.shape)\n",
    "test.head()"
   ]
  },
  {
   "cell_type": "markdown",
   "metadata": {},
   "source": [
    "We slice the dataset, X_train is all the pixel values except the last columns, y_train is only the last columns i.e targets digits"
   ]
  },
  {
   "cell_type": "code",
   "execution_count": 10,
   "metadata": {},
   "outputs": [],
   "source": [
    "X_train = train.values[:, :-1].astype('float32') # all pixel values\n",
    "y_train = train.values[:, -1].astype('int32') # only labels i.e targets digits\n",
    "X_test = test.values.astype('float32')"
   ]
  },
  {
   "cell_type": "code",
   "execution_count": 11,
   "metadata": {},
   "outputs": [
    {
     "data": {
      "text/plain": [
       "array([[0.71393967, 0.9501659 , 0.08249079, ..., 0.49771526, 0.5562701 ,\n",
       "        0.6982948 ],\n",
       "       [0.2074419 , 0.15994205, 0.05264073, ..., 0.49468467, 0.20319134,\n",
       "        0.3910032 ],\n",
       "       [0.32583907, 0.05622495, 0.16083609, ..., 0.40778807, 0.6278255 ,\n",
       "        0.6739378 ],\n",
       "       ...,\n",
       "       [0.20870872, 0.2914126 , 0.11379358, ..., 0.22988315, 0.34141657,\n",
       "        0.7791225 ],\n",
       "       [0.53324336, 0.9818542 , 0.9154577 , ..., 0.14704646, 0.7578512 ,\n",
       "        0.10463694],\n",
       "       [0.7691985 , 0.74592817, 0.93583935, ..., 0.5826297 , 0.06826721,\n",
       "        0.4714569 ]], dtype=float32)"
      ]
     },
     "execution_count": 11,
     "metadata": {},
     "output_type": "execute_result"
    }
   ],
   "source": [
    "X_train"
   ]
  },
  {
   "cell_type": "code",
   "execution_count": 12,
   "metadata": {},
   "outputs": [
    {
     "name": "stdout",
     "output_type": "stream",
     "text": [
      "(12000, 784)\n"
     ]
    }
   ],
   "source": [
    "print(X_train.shape)"
   ]
  },
  {
   "cell_type": "code",
   "execution_count": 13,
   "metadata": {},
   "outputs": [
    {
     "data": {
      "text/plain": [
       "array([5, 7, 7, ..., 2, 2, 5])"
      ]
     },
     "execution_count": 13,
     "metadata": {},
     "output_type": "execute_result"
    }
   ],
   "source": [
    "y_train"
   ]
  },
  {
   "cell_type": "code",
   "execution_count": 14,
   "metadata": {},
   "outputs": [
    {
     "data": {
      "text/plain": [
       "array([[0.923635  , 0.8456874 , 0.39288923, ..., 0.9144356 , 0.20895223,\n",
       "        0.8180819 ],\n",
       "       [0.00776682, 0.6707405 , 0.95102143, ..., 0.6806027 , 0.67633706,\n",
       "        0.9509205 ],\n",
       "       [0.35804468, 0.4646199 , 0.43733254, ..., 0.43907633, 0.30421776,\n",
       "        0.77675223],\n",
       "       ...,\n",
       "       [0.08001589, 0.6599201 , 0.07966129, ..., 0.8241416 , 0.97174627,\n",
       "        0.76374   ],\n",
       "       [0.6857226 , 0.06344529, 0.2195976 , ..., 0.6751272 , 0.6782646 ,\n",
       "        0.7046526 ],\n",
       "       [0.9311438 , 0.20411345, 0.2844703 , ..., 0.70667714, 0.4701938 ,\n",
       "        0.7886062 ]], dtype=float32)"
      ]
     },
     "execution_count": 14,
     "metadata": {},
     "output_type": "execute_result"
    }
   ],
   "source": [
    "X_test"
   ]
  },
  {
   "cell_type": "code",
   "execution_count": 15,
   "metadata": {},
   "outputs": [],
   "source": [
    "# Set a learning rate annealer\n",
    "learning_rate_reduction = ReduceLROnPlateau(monitor='val_acc', \n",
    "                                            patience=3, \n",
    "                                            verbose=1, \n",
    "                                            factor=0.5, \n",
    "                                            min_lr=0.00001)"
   ]
  },
  {
   "cell_type": "code",
   "execution_count": 16,
   "metadata": {},
   "outputs": [
    {
     "data": {
      "image/png": "[encoded data removed]",
      "text/plain": [
       "<Figure size 432x288 with 3 Axes>"
      ]
     },
     "metadata": {},
     "output_type": "display_data"
    }
   ],
   "source": [
    "#Convert train datset to (num_images, img_rows, img_cols) format \n",
    "X_train = X_train.reshape(X_train.shape[0], 28, 28)\n",
    "\n",
    "for i in range(6, 9):\n",
    "    plt.subplot(330 + (i+1))\n",
    "    plt.imshow(X_train[i], cmap=plt.get_cmap('gray'))\n",
    "    plt.title(y_train[i]);"
   ]
  },
  {
   "cell_type": "markdown",
   "metadata": {},
   "source": [
    "Reshape the dataset so that it is suitable for use traininga CNN. \n",
    "\n",
    "Train and test images are subosed to be 28 x 28 and not a list of 784 values (see shape above). We hence have to reshape datas to 28x28x1 3D matrices (Keras needs an extra dimension but since oure images are gray scaled it use only one channel)."
   ]
  },
  {
   "cell_type": "code",
   "execution_count": 17,
   "metadata": {},
   "outputs": [
    {
     "data": {
      "text/plain": [
       "(12000, 28, 28, 1)"
      ]
     },
     "execution_count": 17,
     "metadata": {},
     "output_type": "execute_result"
    }
   ],
   "source": [
    "X_train = X_train.reshape(X_train.shape[0], 28, 28,1)\n",
    "X_train.shape"
   ]
  },
  {
   "cell_type": "code",
   "execution_count": 18,
   "metadata": {},
   "outputs": [
    {
     "data": {
      "text/plain": [
       "(50000, 28, 28, 1)"
      ]
     },
     "execution_count": 18,
     "metadata": {},
     "output_type": "execute_result"
    }
   ],
   "source": [
    "X_test = X_test.reshape(X_test.shape[0], 28, 28,1)\n",
    "X_test.shape"
   ]
  },
  {
   "cell_type": "markdown",
   "metadata": {},
   "source": [
    "It is important preprocessing step. It is used to centre the data around zero mean and unit variance."
   ]
  },
  {
   "cell_type": "code",
   "execution_count": 19,
   "metadata": {},
   "outputs": [],
   "source": [
    "mean_px = X_train.mean().astype(np.float32)\n",
    "std_px = X_train.std().astype(np.float32)\n",
    "\n",
    "def standardize(x): \n",
    "    return (x-mean_px)/std_px"
   ]
  },
  {
   "cell_type": "markdown",
   "metadata": {},
   "source": [
    "Finally, the output variable is an integer from 0 to 9. As such, it is good practice to use a one hot encoding of the class values, transforming the vector of class integers into a binary matrix. We can easily do this using the built-in\n",
    "np utils.to categorical() helper function in Keras. For instance if the answer is 2, one hot encoder would be [0,0,1,0,0,0,0,0,0,0]"
   ]
  },
  {
   "cell_type": "code",
   "execution_count": 20,
   "metadata": {},
   "outputs": [
    {
     "data": {
      "text/plain": [
       "10"
      ]
     },
     "execution_count": 20,
     "metadata": {},
     "output_type": "execute_result"
    }
   ],
   "source": [
    "from keras.utils.np_utils import to_categorical\n",
    "y_train= to_categorical(y_train)\n",
    "num_classes = y_train.shape[1]\n",
    "num_classes"
   ]
  },
  {
   "cell_type": "markdown",
   "metadata": {},
   "source": [
    "It is always a good idea to initialize the random number generator to a constant to ensure\n",
    "that the results of your script are reproducible."
   ]
  },
  {
   "cell_type": "code",
   "execution_count": 21,
   "metadata": {},
   "outputs": [],
   "source": [
    "# fix random seed for reproducibility\n",
    "seed = 43\n",
    "np.random.seed(seed)"
   ]
  },
  {
   "cell_type": "code",
   "execution_count": 22,
   "metadata": {},
   "outputs": [],
   "source": [
    "from keras.models import  Sequential\n",
    "from keras.layers.core import  Lambda , Dense, Flatten, Dropout\n",
    "from keras.callbacks import EarlyStopping\n",
    "from keras.layers import BatchNormalization, Convolution2D , MaxPooling2D"
   ]
  },
  {
   "cell_type": "markdown",
   "metadata": {},
   "source": [
    "We create a simple model from Keras Sequential layer.\n",
    "\n",
    "Lambda layer performs simple arithmetic operations like sum, average, exponentiation etc.\n",
    "\n",
    "In 1st layer of the model we have to define input dimensions of our data in (rows,columns,colour channel) format.\n",
    "\n",
    "Flatten will transform input into 1D array.\n",
    "Dense is fully connected layer that means all neurons in previous layers will be connected to all neurons in fully connected layer. In the last layer we have to specify output dimensions/classes of the model. Here it's 10, since we have to output 10 different digit labels. A softmax activation function is used on the output layer to turn the outputs into \n",
    "probability-like values and allow one class of the 10 to be selected as the model’s output prediction. "
   ]
  },
  {
   "cell_type": "code",
   "execution_count": 23,
   "metadata": {},
   "outputs": [
    {
     "name": "stdout",
     "output_type": "stream",
     "text": [
      "input shape  (None, 28, 28, 1)\n",
      "output shape  (None, 10)\n"
     ]
    }
   ],
   "source": [
    "model= Sequential()\n",
    "model.add(Lambda(standardize,input_shape=(28,28,1)))\n",
    "model.add(Flatten())\n",
    "model.add(Dense(10, activation='softmax'))\n",
    "print(\"input shape \",model.input_shape)\n",
    "print(\"output shape \",model.output_shape)"
   ]
  },
  {
   "cell_type": "markdown",
   "metadata": {},
   "source": [
    "Before making network ready for training we have to make sure to add below things:\n",
    "\n",
    "- A loss function: to measure how good the network is\n",
    "- An optimizer: to update network as it sees more data and reduce loss value\n",
    "- Metrics: to monitor performance of network\n",
    "\n",
    "Logarithmic loss is used as the loss function (called categorical crossentropyin Keras) "
   ]
  },
  {
   "cell_type": "code",
   "execution_count": 24,
   "metadata": {},
   "outputs": [],
   "source": [
    "from keras.optimizers import RMSprop\n",
    "model.compile(optimizer=RMSprop(lr=0.001, rho=0.9, epsilon=1e-08, decay=0.0), \n",
    "    loss='categorical_crossentropy', \n",
    "    metrics=['accuracy'])"
   ]
  },
  {
   "cell_type": "code",
   "execution_count": 25,
   "metadata": {},
   "outputs": [],
   "source": [
    "from keras.preprocessing import image\n",
    "gen = image.ImageDataGenerator()"
   ]
  },
  {
   "cell_type": "markdown",
   "metadata": {},
   "source": [
    "## Cross validation\n",
    "To prevent overfitting, we split the data into trainng and test sets using the train_test_split helper function\n",
    "We can now quickly sample a training set while holding out 10% of the data for testing (evaluating).\n",
    "\n",
    "We split the data into train and test sets.\n",
    "- test size is 10%.\n",
    "- train size is 90%."
   ]
  },
  {
   "cell_type": "code",
   "execution_count": 26,
   "metadata": {},
   "outputs": [],
   "source": [
    "from sklearn.model_selection import train_test_split\n",
    "X = X_train\n",
    "y = y_train\n",
    "X_train, X_val, y_train, y_val = train_test_split(X_train, y_train, test_size=0.10, random_state=42)\n",
    "batches = gen.flow(X_train, y_train, batch_size=64)\n",
    "val_batches=gen.flow(X_val, y_val, batch_size=64)"
   ]
  },
  {
   "cell_type": "code",
   "execution_count": 27,
   "metadata": {},
   "outputs": [
    {
     "name": "stdout",
     "output_type": "stream",
     "text": [
      "Epoch 1/3\n",
      "10800/10800 [==============================] - 70s 7ms/step - loss: 0.2455 - accuracy: 0.9316 - val_loss: 1.9441 - val_accuracy: 0.6927\n",
      "Epoch 2/3\n",
      "10800/10800 [==============================] - 69s 6ms/step - loss: 0.1004 - accuracy: 0.9813 - val_loss: 4.0063 - val_accuracy: 0.6764\n",
      "Epoch 3/3\n",
      "10800/10800 [==============================] - 69s 6ms/step - loss: 0.0574 - accuracy: 0.9944 - val_loss: 2.4660 - val_accuracy: 0.6717\n"
     ]
    }
   ],
   "source": [
    "history=model.fit_generator(generator=batches, steps_per_epoch=batches.n, epochs=3, \n",
    "                    validation_data=val_batches, validation_steps=val_batches.n)"
   ]
  },
  {
   "cell_type": "code",
   "execution_count": 28,
   "metadata": {},
   "outputs": [
    {
     "data": {
      "text/plain": [
       "dict_keys(['val_loss', 'val_accuracy', 'loss', 'accuracy'])"
      ]
     },
     "execution_count": 28,
     "metadata": {},
     "output_type": "execute_result"
    }
   ],
   "source": [
    "history_dict = history.history\n",
    "history_dict.keys()"
   ]
  },
  {
   "cell_type": "code",
   "execution_count": 29,
   "metadata": {},
   "outputs": [
    {
     "data": {
      "image/png": "[encoded data removed]",
      "text/plain": [
       "<Figure size 432x288 with 1 Axes>"
      ]
     },
     "metadata": {
      "needs_background": "light"
     },
     "output_type": "display_data"
    }
   ],
   "source": [
    "import matplotlib.pyplot as plt\n",
    "%matplotlib inline\n",
    "loss_values = history_dict['loss']\n",
    "val_loss_values = history_dict['val_loss']\n",
    "epochs = range(1, len(loss_values) + 1)\n",
    "\n",
    "# \"bo\" is for \"blue dot\"\n",
    "plt.plot(epochs, loss_values, 'bo')\n",
    "# b+ is for \"blue crosses\"\n",
    "plt.plot(epochs, val_loss_values, 'b+')\n",
    "plt.xlabel('Epochs')\n",
    "plt.ylabel('Loss')\n",
    "\n",
    "plt.show()"
   ]
  },
  {
   "cell_type": "code",
   "execution_count": 30,
   "metadata": {},
   "outputs": [
    {
     "data": {
      "image/png": "[encoded data removed]",
      "text/plain": [
       "<Figure size 432x288 with 1 Axes>"
      ]
     },
     "metadata": {
      "needs_background": "light"
     },
     "output_type": "display_data"
    }
   ],
   "source": [
    "plt.clf()   # clear figure\n",
    "acc_values = history_dict['accuracy']\n",
    "val_acc_values = history_dict['val_accuracy']\n",
    "\n",
    "plt.plot(epochs, acc_values, 'bo')\n",
    "plt.plot(epochs, val_acc_values, 'b+')\n",
    "plt.xlabel('Epochs')\n",
    "plt.ylabel('Accuracy')\n",
    "\n",
    "plt.show()"
   ]
  },
  {
   "cell_type": "markdown",
   "metadata": {},
   "source": [
    "### Fully Connected Model\n",
    "Neurons in a fully connected layer have full connections to all activations in the previous layer, \n",
    "as seen in regular Neural Networks. Adding another Dense Layer to model."
   ]
  },
  {
   "cell_type": "code",
   "execution_count": 31,
   "metadata": {},
   "outputs": [],
   "source": [
    "def get_fc_model():\n",
    "    model = Sequential([\n",
    "        Lambda(standardize, input_shape=(28,28,1)),\n",
    "        Flatten(),\n",
    "        Dense(512, activation='relu'),\n",
    "        Dense(10, activation='softmax')\n",
    "        ])\n",
    "    model.compile(optimizer='Adam', loss='categorical_crossentropy',\n",
    "                  metrics=['accuracy'])\n",
    "    return model"
   ]
  },
  {
   "cell_type": "code",
   "execution_count": 32,
   "metadata": {},
   "outputs": [],
   "source": [
    "fc = get_fc_model()\n",
    "fc.optimizer._lr=0.01"
   ]
  },
  {
   "cell_type": "code",
   "execution_count": 33,
   "metadata": {},
   "outputs": [
    {
     "name": "stdout",
     "output_type": "stream",
     "text": [
      "Epoch 1/1\n",
      "10800/10800 [==============================] - 197s 18ms/step - loss: 0.0189 - accuracy: 0.9946 - val_loss: 1.2626 - val_accuracy: 0.8126\n"
     ]
    }
   ],
   "source": [
    "history=fc.fit_generator(generator=batches, steps_per_epoch=batches.n, epochs=1, \n",
    "                    validation_data=val_batches, validation_steps=val_batches.n)"
   ]
  },
  {
   "cell_type": "markdown",
   "metadata": {},
   "source": [
    "# Convolutional Neural Network\n",
    "CNNs are extremely efficient for images."
   ]
  },
  {
   "attachments": {
    "image.png": {
     "image/png": "[encoded data removed]"
    }
   },
   "cell_type": "markdown",
   "metadata": {},
   "source": [
    "### Construction of the convolutionnal model\n",
    "It is now time to construct our model.\n",
    "\n",
    "Deep learning models are made of different convolutionnal, maxpooling and dense layers :\n",
    "\n",
    "1) Convolutions (Conv2D function)\n",
    "Convultions are the first layers of a convolutionnal neural network. It consists of multiple kernels (also called feature detectors or filters) which are put on the image so as to obtain an array by matrix multiplication, called feature map or convolved feature. If multiple kernels are applied, the results consists of a new dimension called strides. We won't have to choose which kernels should be applied to the image, Keras will automatically test multiple kernels.\n",
    "\n",
    "Exemple of a kernel applied to 9 pixels and resulting in one. Kernels are first inverted in order to avoid self dependence. Then we apply a matrix multiplication :\n",
    "![image.png](attachment:image.png)\n",
    "\n",
    "2) Maxpooling (MaxPool2D function)\n",
    "Max Pooling select the higher value of a subset of size (h,H) and stride (s,S) so as to sub-sampling (reduces the number of parameters). It makes the detection of features invariant to scale or orientation changes and control overfitting..\n",
    "\n",
    "3) Flattenning (Flatten function)\n",
    "Makes an any-dimensional array a 1D list so as to be taken into input in dense layers\n",
    "\n",
    "4) Dense / fully connected layers (Dense function)\n",
    "Fully connected neurons layer\n",
    "\n",
    "### Activation functions\n",
    "Activation functions take the output of a neuron and transform it through a function.\n",
    "- softmax : Softmax converts a real vector to a vector of categorical probabilities.\n",
    "- relu : Applies the rectified linear unit activation function. They allow a faster training compared to the sigmoid and tanh functions, being lighter.\n"
   ]
  },
  {
   "cell_type": "code",
   "execution_count": 34,
   "metadata": {},
   "outputs": [],
   "source": [
    "from keras.layers import Convolution2D, MaxPooling2D\n",
    "\n",
    "def get_cnn_model():\n",
    "    model = Sequential([\n",
    "        Lambda(standardize, input_shape=(28,28,1)),\n",
    "        Convolution2D(32,(3,3), activation='relu'),\n",
    "        Convolution2D(32,(3,3), activation='relu'),\n",
    "        MaxPooling2D(),\n",
    "        Convolution2D(64,(3,3), activation='relu'),\n",
    "        Convolution2D(64,(3,3), activation='relu'),\n",
    "        MaxPooling2D(),\n",
    "        Convolution2D(128,(3,3), activation='relu'),\n",
    "        MaxPooling2D(),\n",
    "        Flatten(),\n",
    "        Dense(512, activation='relu'),\n",
    "        Dense(10, activation='softmax')\n",
    "        ])\n",
    "    model.compile(Adam(), loss='categorical_crossentropy',\n",
    "                  metrics=['accuracy'])\n",
    "    return model"
   ]
  },
  {
   "cell_type": "code",
   "execution_count": 35,
   "metadata": {},
   "outputs": [],
   "source": [
    "model= get_cnn_model()\n",
    "model.optimizer._lr=0.01"
   ]
  },
  {
   "cell_type": "code",
   "execution_count": 36,
   "metadata": {},
   "outputs": [
    {
     "name": "stdout",
     "output_type": "stream",
     "text": [
      "Epoch 1/1\n",
      "10800/10800 [==============================] - 1854s 172ms/step - loss: 0.0281 - accuracy: 0.9906 - val_loss: 1.3769 - val_accuracy: 0.9717\n"
     ]
    },
    {
     "name": "stderr",
     "output_type": "stream",
     "text": [
      "C:\\Users\\fbhug\\.conda\\envs\\tensorflow\\lib\\site-packages\\keras\\callbacks\\callbacks.py:1042: RuntimeWarning: Reduce LR on plateau conditioned on metric `val_acc` which is not available. Available metrics are: val_loss,val_accuracy,loss,accuracy,lr\n",
      "  (self.monitor, ','.join(list(logs.keys()))), RuntimeWarning\n"
     ]
    }
   ],
   "source": [
    "history=model.fit_generator(generator=batches, steps_per_epoch=batches.n, epochs=1, \n",
    "                    validation_data=val_batches, validation_steps=val_batches.n,callbacks=[learning_rate_reduction])"
   ]
  },
  {
   "cell_type": "markdown",
   "metadata": {},
   "source": [
    "# Improve Model Performance"
   ]
  },
  {
   "cell_type": "markdown",
   "metadata": {},
   "source": [
    "## Data Augmentation\n",
    "\n",
    "It is a technique of showing slighly different or new images to neural network to avoid overfitting. And to achieve better generalization. In case you have very small dataset, you can use different kinds of data augmentation techniques to increase your data size. Neural networks perform better if you provide them more data.\n",
    "\n",
    "Different data aumentation techniques are as follows:\n",
    "\n",
    "- Cropping\n",
    "- Rotating\n",
    "- Scaling\n",
    "- Translating\n",
    "- Flipping\n",
    "\n",
    "#### Random Rotations\n",
    "Sometimes images in your sample data may have varying and different rotations in the scene.\n",
    "You can train your model to better handle rotations of images by artificially and randomly\n",
    "rotating images from your dataset during training by setting the rotation range argument.\n",
    "\n",
    "#### Random Shifts\n",
    "Objects in your images may not be centered in the frame. They may be off-center in a variety\n",
    "of different ways. You can train your deep learning network to expect and currently handle\n",
    "off-center objects by artificially creating shifted versions of your training data. Keras supports\n",
    "separate horizontal and vertical random shifting of training data by the width shift range\n",
    "and height shift range arguments.\n",
    "\n",
    "Rather than performing the operations on your entire image dataset in memory, the API is\n",
    "designed to be iterated by the deep learning model fitting process, creating augmented image\n",
    "data for you just-in-time. This reduces your memory overhead, but adds some additional time\n",
    "cost during model training.\n",
    "\n",
    "The data generator itself is in fact an iterator, returning batches of image samples when\n",
    "requested. We can configure the batch size and prepare the data generator and get batches of\n",
    "images by calling the flow() function.\n",
    "\n"
   ]
  },
  {
   "cell_type": "code",
   "execution_count": 37,
   "metadata": {},
   "outputs": [],
   "source": [
    "# gen =ImageDataGenerator(rotation_range=8, width_shift_range=0.08, shear_range=0.3,\n",
    "#                                height_shift_range=0.08, zoom_range=0.08)\n",
    "# batches = gen.flow(X_train, y_train, batch_size=64)\n",
    "# val_batches = gen.flow(X_val, y_val, batch_size=64)"
   ]
  },
  {
   "cell_type": "code",
   "execution_count": 38,
   "metadata": {},
   "outputs": [],
   "source": [
    "gen = ImageDataGenerator(\n",
    "        featurewise_center=False,  # set input mean to 0 over the dataset\n",
    "        samplewise_center=False,  # set each sample mean to 0\n",
    "        featurewise_std_normalization=False,  # divide inputs by std of the dataset\n",
    "        samplewise_std_normalization=False,  # divide each input by its std\n",
    "        zca_whitening=False,  # apply ZCA whitening\n",
    "        rotation_range=10,  # randomly rotate images in the range (degrees, 0 to 180)\n",
    "        zoom_range = 0.1, # Randomly zoom image \n",
    "        width_shift_range=0.1,  # randomly shift images horizontally (fraction of total width)\n",
    "        height_shift_range=0.1,  # randomly shift images vertically (fraction of total height)\n",
    "        horizontal_flip=False,  # randomly flip images\n",
    "        vertical_flip=False)  # randomly flip images\n",
    "batches = gen.flow(X_train, y_train, batch_size=64)\n",
    "val_batches = gen.flow(X_val, y_val, batch_size=64)"
   ]
  },
  {
   "cell_type": "markdown",
   "metadata": {},
   "source": [
    "We can make use of the data generator. We call the fit generator() function and pass in the data generator and the\n",
    "desired length of an epoch as well as the total number of epochs on which to train."
   ]
  },
  {
   "cell_type": "code",
   "execution_count": 39,
   "metadata": {},
   "outputs": [
    {
     "name": "stdout",
     "output_type": "stream",
     "text": [
      "Epoch 1/1\n",
      "10800/10800 [==============================] - 1204s 112ms/step - loss: 0.0516 - accuracy: 0.9832 - val_loss: 0.1374 - val_accuracy: 0.9641\n"
     ]
    }
   ],
   "source": [
    "model.optimizer._lr=0.001\n",
    "history=model.fit_generator(generator=batches, steps_per_epoch=batches.n, epochs=1, \n",
    "                    validation_data=val_batches, validation_steps=val_batches.n, callbacks=[learning_rate_reduction])"
   ]
  },
  {
   "cell_type": "code",
   "execution_count": 40,
   "metadata": {},
   "outputs": [
    {
     "name": "stdout",
     "output_type": "stream",
     "text": [
      "tf.__version__ is 2.1.0\n",
      "tf.keras.__version__ is: 2.2.4-tf\n"
     ]
    }
   ],
   "source": [
    "import tensorflow as tf\n",
    "import keras.backend.tensorflow_backend as tfback\n",
    "\n",
    "print(\"tf.__version__ is\", tf.__version__)\n",
    "print(\"tf.keras.__version__ is:\", tf.keras.__version__)\n",
    "\n",
    "def _get_available_gpus():\n",
    "    \"\"\"Get a list of available gpu devices (formatted as strings).\n",
    "\n",
    "    # Returns\n",
    "        A list of available GPU devices.\n",
    "    \"\"\"\n",
    "    #global _LOCAL_DEVICES\n",
    "    if tfback._LOCAL_DEVICES is None:\n",
    "        devices = tf.config.list_logical_devices()\n",
    "        tfback._LOCAL_DEVICES = [x.name for x in devices]\n",
    "    return [x for x in tfback._LOCAL_DEVICES if 'device:gpu' in x.lower()]\n",
    "\n",
    "tfback._get_available_gpus = _get_available_gpus\n"
   ]
  },
  {
   "cell_type": "code",
   "execution_count": null,
   "metadata": {},
   "outputs": [],
   "source": []
  },
  {
   "cell_type": "markdown",
   "metadata": {},
   "source": [
    "# Improved Model "
   ]
  },
  {
   "cell_type": "markdown",
   "metadata": {},
   "source": [
    "As expected others have improved their models and had better scores. As such, I made some adjustment to improve my model and\n",
    "score.\n",
    "\n",
    "Firstly, I modified my model and add additional layer of convolution and furthermore, I used different technique of data \n",
    "augmentation and also increased the epochs to 10. Below are details of the models:"
   ]
  },
  {
   "cell_type": "markdown",
   "metadata": {},
   "source": [
    "## Data Augmentation\n",
    "\n",
    "I tried different techniques of data augmentation, and below is the one where I got the best score."
   ]
  },
  {
   "cell_type": "code",
   "execution_count": null,
   "metadata": {},
   "outputs": [],
   "source": [
    "gen = ImageDataGenerator(\n",
    "        featurewise_center=False,  # set input mean to 0 over the dataset\n",
    "        samplewise_center=False,  # set each sample mean to 0\n",
    "        featurewise_std_normalization=False,  # divide inputs by std of the dataset\n",
    "        samplewise_std_normalization=False,  # divide each input by its std\n",
    "        zca_whitening=False,  # apply ZCA whitening\n",
    "        rotation_range=10,  # randomly rotate images in the range (degrees, 0 to 180)\n",
    "        zoom_range = 0.1, # Randomly zoom image \n",
    "        width_shift_range=0.1,  # randomly shift images horizontally (fraction of total width)\n",
    "        height_shift_range=0.1,  # randomly shift images vertically (fraction of total height)\n",
    "        horizontal_flip=False,  # randomly flip images\n",
    "        vertical_flip=False)  # randomly flip images\n",
    "batches = gen.flow(X_train, y_train, batch_size=64)\n",
    "val_batches = gen.flow(X_val, y_val, batch_size=64)"
   ]
  },
  {
   "cell_type": "markdown",
   "metadata": {},
   "source": [
    "I have tried different models to improve my score, below is the one with which I achieved my best score"
   ]
  },
  {
   "cell_type": "code",
   "execution_count": 41,
   "metadata": {},
   "outputs": [],
   "source": [
    "from keras.layers.normalization import BatchNormalization\n",
    "\n",
    "def get_bn_model():\n",
    "    model = Sequential([\n",
    "        Lambda(standardize, input_shape=(28,28,1)),\n",
    "        Convolution2D(32,(3,3), activation='relu'),\n",
    "        BatchNormalization(axis=1),\n",
    "        Convolution2D(32,(3,3), activation='relu'),\n",
    "        MaxPooling2D(),\n",
    "        Dropout(0.25),\n",
    "        BatchNormalization(axis=1),\n",
    "        Convolution2D(64,(3,3), activation='relu'),\n",
    "        BatchNormalization(axis=1),\n",
    "        Convolution2D(64,(3,3), activation='relu'),\n",
    "        MaxPooling2D(),\n",
    "        Dropout(0.25),\n",
    "        BatchNormalization(axis=1),\n",
    "        Convolution2D(128,(2,2), activation='relu'),\n",
    "        BatchNormalization(axis=1),\n",
    "        Convolution2D(128,(2,2), activation='relu'),\n",
    "        MaxPooling2D(),\n",
    "        Flatten(),\n",
    "        BatchNormalization(),\n",
    "        Dense(512, activation='relu'),\n",
    "        Dropout(0.5),\n",
    "        BatchNormalization(),\n",
    "        Dense(10, activation='softmax')\n",
    "        ])\n",
    "    model.compile(Adam(), loss='categorical_crossentropy', metrics=['accuracy'])\n",
    "    return model"
   ]
  },
  {
   "cell_type": "code",
   "execution_count": 48,
   "metadata": {},
   "outputs": [
    {
     "name": "stdout",
     "output_type": "stream",
     "text": [
      "Model: \"sequential_5\"\n",
      "_________________________________________________________________\n",
      "Layer (type)                 Output Shape              Param #   \n",
      "=================================================================\n",
      "lambda_5 (Lambda)            (None, 28, 28, 1)         0         \n",
      "_________________________________________________________________\n",
      "conv2d_12 (Conv2D)           (None, 26, 26, 32)        320       \n",
      "_________________________________________________________________\n",
      "batch_normalization_8 (Batch (None, 26, 26, 32)        104       \n",
      "_________________________________________________________________\n",
      "conv2d_13 (Conv2D)           (None, 24, 24, 32)        9248      \n",
      "_________________________________________________________________\n",
      "max_pooling2d_7 (MaxPooling2 (None, 12, 12, 32)        0         \n",
      "_________________________________________________________________\n",
      "dropout_4 (Dropout)          (None, 12, 12, 32)        0         \n",
      "_________________________________________________________________\n",
      "batch_normalization_9 (Batch (None, 12, 12, 32)        48        \n",
      "_________________________________________________________________\n",
      "conv2d_14 (Conv2D)           (None, 10, 10, 64)        18496     \n",
      "_________________________________________________________________\n",
      "batch_normalization_10 (Batc (None, 10, 10, 64)        40        \n",
      "_________________________________________________________________\n",
      "conv2d_15 (Conv2D)           (None, 8, 8, 64)          36928     \n",
      "_________________________________________________________________\n",
      "max_pooling2d_8 (MaxPooling2 (None, 4, 4, 64)          0         \n",
      "_________________________________________________________________\n",
      "dropout_5 (Dropout)          (None, 4, 4, 64)          0         \n",
      "_________________________________________________________________\n",
      "batch_normalization_11 (Batc (None, 4, 4, 64)          16        \n",
      "_________________________________________________________________\n",
      "conv2d_16 (Conv2D)           (None, 3, 3, 128)         32896     \n",
      "_________________________________________________________________\n",
      "batch_normalization_12 (Batc (None, 3, 3, 128)         12        \n",
      "_________________________________________________________________\n",
      "conv2d_17 (Conv2D)           (None, 2, 2, 128)         65664     \n",
      "_________________________________________________________________\n",
      "max_pooling2d_9 (MaxPooling2 (None, 1, 1, 128)         0         \n",
      "_________________________________________________________________\n",
      "flatten_5 (Flatten)          (None, 128)               0         \n",
      "_________________________________________________________________\n",
      "batch_normalization_13 (Batc (None, 128)               512       \n",
      "_________________________________________________________________\n",
      "dense_8 (Dense)              (None, 512)               66048     \n",
      "_________________________________________________________________\n",
      "dropout_6 (Dropout)          (None, 512)               0         \n",
      "_________________________________________________________________\n",
      "batch_normalization_14 (Batc (None, 512)               2048      \n",
      "_________________________________________________________________\n",
      "dense_9 (Dense)              (None, 10)                5130      \n",
      "=================================================================\n",
      "Total params: 237,510\n",
      "Trainable params: 236,120\n",
      "Non-trainable params: 1,390\n",
      "_________________________________________________________________\n"
     ]
    }
   ],
   "source": [
    "model.summary()"
   ]
  },
  {
   "cell_type": "code",
   "execution_count": 42,
   "metadata": {},
   "outputs": [
    {
     "name": "stdout",
     "output_type": "stream",
     "text": [
      "Epoch 1/10\n",
      "10800/10800 [==============================] - 2814s 261ms/step - loss: 0.1560 - accuracy: 0.9496 - val_loss: 0.1761 - val_accuracy: 0.9635\n",
      "Epoch 2/10\n"
     ]
    },
    {
     "name": "stderr",
     "output_type": "stream",
     "text": [
      "C:\\Users\\fbhug\\.conda\\envs\\tensorflow\\lib\\site-packages\\keras\\callbacks\\callbacks.py:1042: RuntimeWarning: Reduce LR on plateau conditioned on metric `val_acc` which is not available. Available metrics are: val_loss,val_accuracy,loss,accuracy,lr\n",
      "  (self.monitor, ','.join(list(logs.keys()))), RuntimeWarning\n"
     ]
    },
    {
     "name": "stdout",
     "output_type": "stream",
     "text": [
      "10800/10800 [==============================] - 3151s 292ms/step - loss: 0.0446 - accuracy: 0.9850 - val_loss: 0.2119 - val_accuracy: 0.9728\n",
      "Epoch 3/10\n",
      "10800/10800 [==============================] - 3147s 291ms/step - loss: 0.0301 - accuracy: 0.9899 - val_loss: 0.2332 - val_accuracy: 0.9772\n",
      "Epoch 4/10\n",
      "10800/10800 [==============================] - 3152s 292ms/step - loss: 0.0230 - accuracy: 0.9924 - val_loss: 0.0566 - val_accuracy: 0.9779\n",
      "Epoch 5/10\n",
      "10800/10800 [==============================] - 3234s 299ms/step - loss: 0.0189 - accuracy: 0.9938 - val_loss: 0.2146 - val_accuracy: 0.9784\n",
      "Epoch 6/10\n",
      "10800/10800 [==============================] - 3206s 297ms/step - loss: 0.0162 - accuracy: 0.9947 - val_loss: 0.3121 - val_accuracy: 0.9774\n",
      "Epoch 7/10\n",
      "10800/10800 [==============================] - 3171s 294ms/step - loss: 0.0139 - accuracy: 0.9955 - val_loss: 0.0011 - val_accuracy: 0.9766\n",
      "Epoch 8/10\n",
      "10800/10800 [==============================] - 3155s 292ms/step - loss: 0.0128 - accuracy: 0.9959 - val_loss: 0.0104 - val_accuracy: 0.9776\n",
      "Epoch 9/10\n",
      "10800/10800 [==============================] - 3167s 293ms/step - loss: 0.0118 - accuracy: 0.9962 - val_loss: 0.0060 - val_accuracy: 0.9823\n",
      "Epoch 10/10\n",
      "10800/10800 [==============================] - 3199s 296ms/step - loss: 0.0107 - accuracy: 0.9965 - val_loss: 0.0816 - val_accuracy: 0.9808\n"
     ]
    }
   ],
   "source": [
    "model= get_bn_model()\n",
    "model.optimizer._lr=0.01\n",
    "history=model.fit_generator(generator=batches, steps_per_epoch=batches.n, epochs=10, \n",
    "                    validation_data=val_batches, validation_steps=val_batches.n, callbacks=[learning_rate_reduction])"
   ]
  },
  {
   "cell_type": "markdown",
   "metadata": {},
   "source": [
    "# Submitting Predictions to Kaggle"
   ]
  },
  {
   "cell_type": "markdown",
   "metadata": {},
   "source": [
    "We now train the best model on the entire augmented dataset :"
   ]
  },
  {
   "cell_type": "code",
   "execution_count": 43,
   "metadata": {},
   "outputs": [
    {
     "name": "stdout",
     "output_type": "stream",
     "text": [
      "Epoch 1/10\n",
      "12000/12000 [==============================] - 4503s 375ms/step - loss: 0.0036 - accuracy: 0.9989\n",
      "Epoch 2/10\n",
      "12000/12000 [==============================] - 3577s 298ms/step - loss: 0.0024 - accuracy: 0.9992\n",
      "Epoch 3/10\n",
      "12000/12000 [==============================] - 3403s 284ms/step - loss: 0.0020 - accuracy: 0.9994\n",
      "Epoch 4/10\n",
      "12000/12000 [==============================] - 3259s 272ms/step - loss: 0.0020 - accuracy: 0.9994\n",
      "Epoch 5/10\n",
      "12000/12000 [==============================] - 3274s 273ms/step - loss: 0.0017 - accuracy: 0.9995\n",
      "Epoch 6/10\n",
      "12000/12000 [==============================] - 3432s 286ms/step - loss: 0.0016 - accuracy: 0.9995\n",
      "Epoch 7/10\n",
      "12000/12000 [==============================] - 3272s 273ms/step - loss: 0.0017 - accuracy: 0.9995\n",
      "Epoch 8/10\n",
      "12000/12000 [==============================] - 3266s 272ms/step - loss: 0.0013 - accuracy: 0.9996\n",
      "Epoch 9/10\n",
      "12000/12000 [==============================] - 3280s 273ms/step - loss: 0.0015 - accuracy: 0.9996\n",
      "Epoch 10/10\n",
      "12000/12000 [==============================] - 3659s 305ms/step - loss: 0.0012 - accuracy: 0.9996\n"
     ]
    }
   ],
   "source": [
    "model.optimizer._lr=0.01\n",
    "gen = image.ImageDataGenerator()\n",
    "batches = gen.flow(X, y, batch_size=64)\n",
    "history=model.fit_generator(generator=batches, steps_per_epoch=batches.n, epochs=10)"
   ]
  },
  {
   "cell_type": "code",
   "execution_count": 45,
   "metadata": {},
   "outputs": [],
   "source": [
    "predictions = model.predict_classes(X_test, verbose=0)\n",
    "\n",
    "submissions=pd.DataFrame({\"Id\": list(range(1,len(predictions)+1)),\n",
    "                         \"Category\": predictions})\n",
    "submissions.to_csv(\"submission10.csv\", index=True, header=True)"
   ]
  },
  {
   "cell_type": "markdown",
   "metadata": {},
   "source": [
    "# Kaggle score = 0.98733\n"
   ]
  }
 ],
 "metadata": {
  "kernelspec": {
   "display_name": "Python 3",
   "language": "python",
   "name": "python3"
  },
  "language_info": {
   "codemirror_mode": {
    "name": "ipython",
    "version": 3
   },
   "file_extension": ".py",
   "mimetype": "text/x-python",
   "name": "python",
   "nbconvert_exporter": "python",
   "pygments_lexer": "ipython3",
   "version": "3.7.9"
  }
 },
 "nbformat": 4,
 "nbformat_minor": 2
}
